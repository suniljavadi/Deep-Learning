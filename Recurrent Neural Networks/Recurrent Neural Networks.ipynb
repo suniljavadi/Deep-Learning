{
 "cells": [
  {
   "cell_type": "code",
   "execution_count": 2,
   "id": "cd7c8cbe",
   "metadata": {},
   "outputs": [],
   "source": [
    "import tensorflow as tf\n",
    "from tensorflow.keras.datasets import imdb\n",
    "from tensorflow.keras.preprocessing.sequence import pad_sequences\n",
    "from tensorflow.keras.models import Sequential\n",
    "from tensorflow.keras.layers import Embedding, SimpleRNN, Dense\n"
   ]
  },
  {
   "cell_type": "code",
   "execution_count": 3,
   "id": "6a08557a",
   "metadata": {},
   "outputs": [],
   "source": [
    "# Load the IMDB dataset\n",
    "vocab_size = 10000\n",
    "(x_train, y_train), (x_test, y_test) = imdb.load_data(num_words=vocab_size)\n"
   ]
  },
  {
   "cell_type": "code",
   "execution_count": 4,
   "id": "8225a0d4",
   "metadata": {},
   "outputs": [],
   "source": [
    "# Pad sequences to have the same length\n",
    "max_length = 200\n",
    "x_train = pad_sequences(x_train, maxlen=max_length)\n",
    "x_test = pad_sequences(x_test, maxlen=max_length)\n"
   ]
  },
  {
   "cell_type": "code",
   "execution_count": 5,
   "id": "45d6819a",
   "metadata": {},
   "outputs": [
    {
     "name": "stdout",
     "output_type": "stream",
     "text": [
      "WARNING:tensorflow:From C:\\Users\\javadisu\\AppData\\Local\\anaconda3\\lib\\site-packages\\keras\\src\\backend.py:873: The name tf.get_default_graph is deprecated. Please use tf.compat.v1.get_default_graph instead.\n",
      "\n"
     ]
    }
   ],
   "source": [
    "\n",
    "# Create the RNN model\n",
    "embedding_dim = 128\n",
    "model = Sequential([\n",
    "    Embedding(input_dim=vocab_size, output_dim=embedding_dim, input_length=max_length),\n",
    "    SimpleRNN(units=64),\n",
    "    Dense(1, activation='sigmoid')\n",
    "])"
   ]
  },
  {
   "cell_type": "code",
   "execution_count": 6,
   "id": "e76bf6bf",
   "metadata": {},
   "outputs": [
    {
     "name": "stdout",
     "output_type": "stream",
     "text": [
      "WARNING:tensorflow:From C:\\Users\\javadisu\\AppData\\Local\\anaconda3\\lib\\site-packages\\keras\\src\\optimizers\\__init__.py:309: The name tf.train.Optimizer is deprecated. Please use tf.compat.v1.train.Optimizer instead.\n",
      "\n"
     ]
    }
   ],
   "source": [
    "# Compile the model\n",
    "model.compile(optimizer='adam', loss='binary_crossentropy', metrics=['accuracy'])\n"
   ]
  },
  {
   "cell_type": "code",
   "execution_count": 7,
   "id": "6e4594c6",
   "metadata": {},
   "outputs": [
    {
     "name": "stdout",
     "output_type": "stream",
     "text": [
      "Epoch 1/10\n",
      "WARNING:tensorflow:From C:\\Users\\javadisu\\AppData\\Local\\anaconda3\\lib\\site-packages\\keras\\src\\utils\\tf_utils.py:492: The name tf.ragged.RaggedTensorValue is deprecated. Please use tf.compat.v1.ragged.RaggedTensorValue instead.\n",
      "\n",
      "WARNING:tensorflow:From C:\\Users\\javadisu\\AppData\\Local\\anaconda3\\lib\\site-packages\\keras\\src\\engine\\base_layer_utils.py:384: The name tf.executing_eagerly_outside_functions is deprecated. Please use tf.compat.v1.executing_eagerly_outside_functions instead.\n",
      "\n",
      "157/157 [==============================] - 56s 331ms/step - loss: 0.6143 - accuracy: 0.6484 - val_loss: 0.5603 - val_accuracy: 0.7086\n",
      "Epoch 2/10\n",
      "157/157 [==============================] - 36s 232ms/step - loss: 0.3669 - accuracy: 0.8432 - val_loss: 0.3998 - val_accuracy: 0.8286\n",
      "Epoch 3/10\n",
      "157/157 [==============================] - 41s 263ms/step - loss: 0.1729 - accuracy: 0.9367 - val_loss: 0.5012 - val_accuracy: 0.7800\n",
      "Epoch 4/10\n",
      "157/157 [==============================] - 45s 285ms/step - loss: 0.0558 - accuracy: 0.9843 - val_loss: 0.5652 - val_accuracy: 0.8074\n",
      "Epoch 5/10\n",
      "157/157 [==============================] - 38s 239ms/step - loss: 0.0170 - accuracy: 0.9967 - val_loss: 0.6228 - val_accuracy: 0.8106\n",
      "Epoch 6/10\n",
      "157/157 [==============================] - 36s 230ms/step - loss: 0.0042 - accuracy: 0.9997 - val_loss: 0.6641 - val_accuracy: 0.8236\n",
      "Epoch 7/10\n",
      "157/157 [==============================] - 39s 247ms/step - loss: 0.0015 - accuracy: 1.0000 - val_loss: 0.7054 - val_accuracy: 0.8190\n",
      "Epoch 8/10\n",
      "157/157 [==============================] - 36s 229ms/step - loss: 8.7453e-04 - accuracy: 1.0000 - val_loss: 0.7339 - val_accuracy: 0.8204\n",
      "Epoch 9/10\n",
      "157/157 [==============================] - 36s 228ms/step - loss: 6.1851e-04 - accuracy: 1.0000 - val_loss: 0.7576 - val_accuracy: 0.8216\n",
      "Epoch 10/10\n",
      "157/157 [==============================] - 35s 221ms/step - loss: 4.6562e-04 - accuracy: 1.0000 - val_loss: 0.7784 - val_accuracy: 0.8228\n"
     ]
    }
   ],
   "source": [
    "# Train the model\n",
    "history = model.fit(x_train, y_train, epochs=10, batch_size=128, validation_split=0.2)\n"
   ]
  },
  {
   "cell_type": "code",
   "execution_count": 8,
   "id": "e64dab1a",
   "metadata": {},
   "outputs": [
    {
     "name": "stdout",
     "output_type": "stream",
     "text": [
      "782/782 [==============================] - 22s 28ms/step - loss: 0.7690 - accuracy: 0.8219\n",
      "Test accuracy: 0.8218799829483032\n"
     ]
    }
   ],
   "source": [
    "# Evaluate the model\n",
    "test_loss, test_accuracy = model.evaluate(x_test, y_test)\n",
    "print(f\"Test accuracy: {test_accuracy}\")\n"
   ]
  },
  {
   "cell_type": "code",
   "execution_count": null,
   "id": "6a67263d",
   "metadata": {},
   "outputs": [],
   "source": []
  }
 ],
 "metadata": {
  "kernelspec": {
   "display_name": "Python 3 (ipykernel)",
   "language": "python",
   "name": "python3"
  },
  "language_info": {
   "codemirror_mode": {
    "name": "ipython",
    "version": 3
   },
   "file_extension": ".py",
   "mimetype": "text/x-python",
   "name": "python",
   "nbconvert_exporter": "python",
   "pygments_lexer": "ipython3",
   "version": "3.10.9"
  }
 },
 "nbformat": 4,
 "nbformat_minor": 5
}
